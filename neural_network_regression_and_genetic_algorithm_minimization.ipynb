{
 "cells": [
  {
   "cell_type": "code",
   "execution_count": 1,
   "metadata": {},
   "outputs": [],
   "source": [
    "import numpy as np\n",
    "import pandas as pd\n",
    "import torch\n",
    "import torch.nn as nn"
   ]
  },
  {
   "cell_type": "code",
   "execution_count": 2,
   "metadata": {},
   "outputs": [
    {
     "name": "stdout",
     "output_type": "stream",
     "text": [
      "242\n",
      "242\n"
     ]
    }
   ],
   "source": [
    "X = pd.read_csv(\"inputs.csv\",header=None)\n",
    "y = pd.read_csv(\"output.csv\",header=None)\n",
    "\n",
    "print(len(X))\n",
    "print(len(y))"
   ]
  },
  {
   "cell_type": "code",
   "execution_count": 3,
   "metadata": {},
   "outputs": [
    {
     "data": {
      "text/html": [
       "<div>\n",
       "<style scoped>\n",
       "    .dataframe tbody tr th:only-of-type {\n",
       "        vertical-align: middle;\n",
       "    }\n",
       "\n",
       "    .dataframe tbody tr th {\n",
       "        vertical-align: top;\n",
       "    }\n",
       "\n",
       "    .dataframe thead th {\n",
       "        text-align: right;\n",
       "    }\n",
       "</style>\n",
       "<table border=\"1\" class=\"dataframe\">\n",
       "  <thead>\n",
       "    <tr style=\"text-align: right;\">\n",
       "      <th></th>\n",
       "      <th>0</th>\n",
       "      <th>1</th>\n",
       "      <th>2</th>\n",
       "      <th>3</th>\n",
       "      <th>4</th>\n",
       "      <th>5</th>\n",
       "      <th>6</th>\n",
       "      <th>7</th>\n",
       "      <th>8</th>\n",
       "      <th>9</th>\n",
       "      <th>10</th>\n",
       "    </tr>\n",
       "  </thead>\n",
       "  <tbody>\n",
       "    <tr>\n",
       "      <th>0</th>\n",
       "      <td>1.78</td>\n",
       "      <td>0.13</td>\n",
       "      <td>9.29</td>\n",
       "      <td>26.97</td>\n",
       "      <td>43.71</td>\n",
       "      <td>0.48</td>\n",
       "      <td>0.59</td>\n",
       "      <td>50.43</td>\n",
       "      <td>77.52</td>\n",
       "      <td>2.47</td>\n",
       "      <td>32.65</td>\n",
       "    </tr>\n",
       "    <tr>\n",
       "      <th>1</th>\n",
       "      <td>7.80</td>\n",
       "      <td>0.17</td>\n",
       "      <td>3.35</td>\n",
       "      <td>27.33</td>\n",
       "      <td>43.56</td>\n",
       "      <td>0.63</td>\n",
       "      <td>1.47</td>\n",
       "      <td>57.64</td>\n",
       "      <td>75.95</td>\n",
       "      <td>7.75</td>\n",
       "      <td>38.67</td>\n",
       "    </tr>\n",
       "    <tr>\n",
       "      <th>2</th>\n",
       "      <td>5.23</td>\n",
       "      <td>1.04</td>\n",
       "      <td>8.60</td>\n",
       "      <td>31.33</td>\n",
       "      <td>46.34</td>\n",
       "      <td>0.33</td>\n",
       "      <td>1.03</td>\n",
       "      <td>50.90</td>\n",
       "      <td>85.12</td>\n",
       "      <td>6.17</td>\n",
       "      <td>35.08</td>\n",
       "    </tr>\n",
       "    <tr>\n",
       "      <th>3</th>\n",
       "      <td>9.35</td>\n",
       "      <td>0.78</td>\n",
       "      <td>7.80</td>\n",
       "      <td>33.37</td>\n",
       "      <td>45.79</td>\n",
       "      <td>0.51</td>\n",
       "      <td>1.03</td>\n",
       "      <td>54.33</td>\n",
       "      <td>84.74</td>\n",
       "      <td>20.62</td>\n",
       "      <td>38.03</td>\n",
       "    </tr>\n",
       "    <tr>\n",
       "      <th>4</th>\n",
       "      <td>4.21</td>\n",
       "      <td>1.91</td>\n",
       "      <td>2.93</td>\n",
       "      <td>28.09</td>\n",
       "      <td>42.75</td>\n",
       "      <td>0.58</td>\n",
       "      <td>1.46</td>\n",
       "      <td>58.28</td>\n",
       "      <td>77.00</td>\n",
       "      <td>2.60</td>\n",
       "      <td>39.18</td>\n",
       "    </tr>\n",
       "  </tbody>\n",
       "</table>\n",
       "</div>"
      ],
      "text/plain": [
       "     0     1     2      3      4     5     6      7      8      9      10\n",
       "0  1.78  0.13  9.29  26.97  43.71  0.48  0.59  50.43  77.52   2.47  32.65\n",
       "1  7.80  0.17  3.35  27.33  43.56  0.63  1.47  57.64  75.95   7.75  38.67\n",
       "2  5.23  1.04  8.60  31.33  46.34  0.33  1.03  50.90  85.12   6.17  35.08\n",
       "3  9.35  0.78  7.80  33.37  45.79  0.51  1.03  54.33  84.74  20.62  38.03\n",
       "4  4.21  1.91  2.93  28.09  42.75  0.58  1.46  58.28  77.00   2.60  39.18"
      ]
     },
     "execution_count": 3,
     "metadata": {},
     "output_type": "execute_result"
    }
   ],
   "source": [
    "X.head()"
   ]
  },
  {
   "cell_type": "code",
   "execution_count": 4,
   "metadata": {},
   "outputs": [],
   "source": [
    "from sklearn.model_selection import train_test_split"
   ]
  },
  {
   "cell_type": "code",
   "execution_count": 24,
   "metadata": {},
   "outputs": [],
   "source": [
    "X_train, X_test, y_train, y_test = train_test_split(X, y, test_size=0.3, random_state=42)"
   ]
  },
  {
   "cell_type": "code",
   "execution_count": 25,
   "metadata": {},
   "outputs": [
    {
     "name": "stdout",
     "output_type": "stream",
     "text": [
      "169\n",
      "169\n"
     ]
    }
   ],
   "source": [
    "print(len(X_train))\n",
    "print(len(y_train))"
   ]
  },
  {
   "cell_type": "code",
   "execution_count": 26,
   "metadata": {},
   "outputs": [],
   "source": [
    "# Convert data to tensor\n",
    "\n",
    "X_train = torch.FloatTensor(X_train.to_numpy())\n",
    "X_test  = torch.FloatTensor(X_test.to_numpy())\n",
    "y_train = torch.FloatTensor(y_train.to_numpy())\n",
    "y_test = torch.FloatTensor(y_test.to_numpy())"
   ]
  },
  {
   "cell_type": "code",
   "execution_count": 10,
   "metadata": {},
   "outputs": [
    {
     "data": {
      "text/plain": [
       "tensor([[ 3.9400,  1.6200,  1.9100, 35.3500, 37.2600,  0.7400,  1.8000, 52.0300,\n",
       "         83.3500, 10.8300, 25.2500],\n",
       "        [ 9.5300,  1.0900,  2.3600, 32.9200, 43.9800,  0.4700,  1.4900, 53.2300,\n",
       "         82.8900,  4.7500, 24.5900],\n",
       "        [ 1.8600,  0.5800,  8.0200, 24.4100, 43.9000,  0.7700,  0.8900, 52.4700,\n",
       "         82.8500, 16.8800, 25.6500],\n",
       "        [ 3.4400,  1.4600,  3.8100, 32.3300, 45.5400,  0.4900,  2.0900, 56.5600,\n",
       "         77.2600, 14.3700, 44.3500],\n",
       "        [ 9.6000,  0.7600,  3.8200, 21.4200, 45.2900,  0.4400,  0.5900, 58.2000,\n",
       "         85.5900, 16.4800, 29.4900]])"
      ]
     },
     "execution_count": 10,
     "metadata": {},
     "output_type": "execute_result"
    }
   ],
   "source": [
    "X_train[0:5,:]"
   ]
  },
  {
   "cell_type": "code",
   "execution_count": 11,
   "metadata": {},
   "outputs": [
    {
     "data": {
      "text/plain": [
       "tensor([[69.0100],\n",
       "        [50.4200],\n",
       "        [95.7700],\n",
       "        [54.6100],\n",
       "        [93.9200]])"
      ]
     },
     "execution_count": 11,
     "metadata": {},
     "output_type": "execute_result"
    }
   ],
   "source": [
    "y_train[0:5,:]"
   ]
  },
  {
   "cell_type": "code",
   "execution_count": 12,
   "metadata": {},
   "outputs": [],
   "source": [
    "class NN(nn.Module):\n",
    "    def __init__(self, in_size, h1=10,h2=10, out_size=1):\n",
    "        super().__init__()\n",
    "\n",
    "        self.bnorm = nn.BatchNorm1d(in_size)\n",
    "        self.fc1 = nn.Linear(in_size,h1)\n",
    "        self.sigmoid = nn.Sigmoid()\n",
    "        self.fc2 = nn.Linear(h1,h2)\n",
    "        self.out = nn.Linear(h2,out_size)\n",
    "\n",
    "    def forward(self,x):\n",
    "        x = self.bnorm(x)\n",
    "        x = self.fc1(x)\n",
    "        x = self.sigmoid(x)\n",
    "        x = self.fc2(x)\n",
    "        x = self.sigmoid(x)\n",
    "        x = self.out(x)\n",
    "\n",
    "        return x"
   ]
  },
  {
   "cell_type": "code",
   "execution_count": 13,
   "metadata": {},
   "outputs": [],
   "source": [
    "model = NN(in_size = X.shape[1]) # Construct the Neural Network\n",
    "criterion = nn.MSELoss() # Loss function is Mean Squared Error\n",
    "optimizer = torch.optim.Adam(model.parameters(), lr=0.01) # Use Adam optimizer"
   ]
  },
  {
   "cell_type": "markdown",
   "metadata": {},
   "source": [
    "Train the network"
   ]
  },
  {
   "cell_type": "code",
   "execution_count": 14,
   "metadata": {},
   "outputs": [],
   "source": [
    "import time"
   ]
  },
  {
   "cell_type": "code",
   "execution_count": 15,
   "metadata": {},
   "outputs": [
    {
     "name": "stdout",
     "output_type": "stream",
     "text": [
      "Training starts...\n",
      "Epoch 0/5000 | Loss 59.133026123046875\n",
      "Epoch 100/5000 | Loss 47.97975158691406\n",
      "Epoch 200/5000 | Loss 36.20389938354492\n",
      "Epoch 300/5000 | Loss 26.152973175048828\n",
      "Epoch 400/5000 | Loss 18.31785011291504\n",
      "Epoch 500/5000 | Loss 14.3616943359375\n",
      "Epoch 600/5000 | Loss 13.496545791625977\n",
      "Epoch 700/5000 | Loss 13.40883731842041\n",
      "Epoch 800/5000 | Loss 13.403203010559082\n",
      "Epoch 900/5000 | Loss 13.402898788452148\n",
      "Epoch 1000/5000 | Loss 13.36674690246582\n",
      "Epoch 1100/5000 | Loss 7.738314151763916\n",
      "Epoch 1200/5000 | Loss 5.196625709533691\n",
      "Epoch 1300/5000 | Loss 3.483814239501953\n",
      "Epoch 1400/5000 | Loss 2.169156074523926\n",
      "Epoch 1500/5000 | Loss 1.3419339656829834\n",
      "Epoch 1600/5000 | Loss 1.0012972354888916\n",
      "Epoch 1700/5000 | Loss 0.8296281099319458\n",
      "Epoch 1800/5000 | Loss 0.7231537699699402\n",
      "Epoch 1900/5000 | Loss 0.6407939195632935\n",
      "Epoch 2000/5000 | Loss 0.5951156616210938\n",
      "Epoch 2100/5000 | Loss 0.5700163245201111\n",
      "Epoch 2200/5000 | Loss 0.5516536235809326\n",
      "Epoch 2300/5000 | Loss 0.5443820953369141\n",
      "Epoch 2400/5000 | Loss 0.5371735692024231\n",
      "Epoch 2500/5000 | Loss 0.5327848196029663\n",
      "Epoch 2600/5000 | Loss 0.5280753970146179\n",
      "Epoch 2700/5000 | Loss 0.5239613056182861\n",
      "Epoch 2800/5000 | Loss 0.522059977054596\n",
      "Epoch 2900/5000 | Loss 0.5171938538551331\n",
      "Epoch 3000/5000 | Loss 0.5146762132644653\n",
      "Epoch 3100/5000 | Loss 0.51271653175354\n",
      "Epoch 3200/5000 | Loss 0.5111289024353027\n",
      "Epoch 3300/5000 | Loss 0.5115547776222229\n",
      "Epoch 3400/5000 | Loss 0.5087153911590576\n",
      "Epoch 3500/5000 | Loss 0.507321834564209\n",
      "Epoch 3600/5000 | Loss 0.5062900185585022\n",
      "Epoch 3700/5000 | Loss 0.5059630274772644\n",
      "Epoch 3800/5000 | Loss 0.5042731761932373\n",
      "Epoch 3900/5000 | Loss 0.503370463848114\n",
      "Epoch 4000/5000 | Loss 0.5028749704360962\n",
      "Epoch 4100/5000 | Loss 0.5027579069137573\n",
      "Epoch 4200/5000 | Loss 0.5008366107940674\n",
      "Epoch 4300/5000 | Loss 0.49984556436538696\n",
      "Epoch 4400/5000 | Loss 0.49870505928993225\n",
      "Epoch 4500/5000 | Loss 0.4972763657569885\n",
      "Epoch 4600/5000 | Loss 0.49582839012145996\n",
      "Epoch 4700/5000 | Loss 0.4940868020057678\n",
      "Epoch 4800/5000 | Loss 0.4935808777809143\n",
      "Epoch 4900/5000 | Loss 0.49334681034088135\n",
      "Training finished. Elapsed time: 7.068105220794678 sec\n"
     ]
    }
   ],
   "source": [
    "epochs = 5000\n",
    "losses = []\n",
    "lambda1 = 0.1\n",
    "\n",
    "print(\"Training starts...\")\n",
    "start_time = time.time()\n",
    "for epoch in range(epochs):\n",
    "    y_preds = model.forward(X_train)\n",
    "    \n",
    "    # RMSE loss\n",
    "    loss = torch.sqrt(criterion(y_preds,y_train)) \n",
    "\n",
    "    optimizer.zero_grad()\n",
    "    loss.backward()\n",
    "    optimizer.step()\n",
    "\n",
    "    losses.append(loss.item())\n",
    "\n",
    "    if epoch%100 == 0:\n",
    "        print(f\"Epoch {epoch}/{epochs} | Loss {loss}\")\n",
    "\n",
    "elapsed_time = time.time() - start_time\n",
    "print(f\"Training finished. Elapsed time: {elapsed_time} sec\")"
   ]
  },
  {
   "cell_type": "markdown",
   "metadata": {},
   "source": [
    "Test the trained neural network"
   ]
  },
  {
   "cell_type": "code",
   "execution_count": 19,
   "metadata": {},
   "outputs": [
    {
     "name": "stdout",
     "output_type": "stream",
     "text": [
      "Neural Network Test Results\n",
      "(1) Actual Value: 66.830 | Predicted Value = 60.684\n",
      "(2) Actual Value: 103.500 | Predicted Value = 97.766\n",
      "(3) Actual Value: 55.470 | Predicted Value = 52.430\n",
      "(4) Actual Value: 100.970 | Predicted Value = 94.385\n",
      "(5) Actual Value: 47.470 | Predicted Value = 43.933\n",
      "(6) Actual Value: 99.210 | Predicted Value = 96.115\n",
      "(7) Actual Value: 67.240 | Predicted Value = 68.933\n",
      "(8) Actual Value: 59.760 | Predicted Value = 57.321\n",
      "(9) Actual Value: 65.480 | Predicted Value = 65.037\n",
      "(10) Actual Value: 39.890 | Predicted Value = 43.359\n",
      "(11) Actual Value: 41.970 | Predicted Value = 42.601\n",
      "(12) Actual Value: 55.550 | Predicted Value = 51.762\n",
      "(13) Actual Value: 42.120 | Predicted Value = 43.059\n",
      "(14) Actual Value: 58.940 | Predicted Value = 56.166\n",
      "(15) Actual Value: 66.820 | Predicted Value = 64.013\n",
      "(16) Actual Value: 54.670 | Predicted Value = 54.049\n",
      "(17) Actual Value: 67.140 | Predicted Value = 56.705\n",
      "(18) Actual Value: 56.610 | Predicted Value = 53.256\n",
      "(19) Actual Value: 55.570 | Predicted Value = 56.768\n",
      "(20) Actual Value: 45.590 | Predicted Value = 43.526\n",
      "(21) Actual Value: 56.140 | Predicted Value = 55.404\n",
      "(22) Actual Value: 45.930 | Predicted Value = 45.785\n",
      "(23) Actual Value: 59.640 | Predicted Value = 52.758\n",
      "(24) Actual Value: 56.040 | Predicted Value = 61.148\n",
      "(25) Actual Value: 58.670 | Predicted Value = 61.259\n",
      "(26) Actual Value: 55.340 | Predicted Value = 58.943\n",
      "(27) Actual Value: 61.880 | Predicted Value = 57.477\n",
      "(28) Actual Value: 42.080 | Predicted Value = 44.427\n",
      "(29) Actual Value: 46.780 | Predicted Value = 44.764\n",
      "(30) Actual Value: 47.520 | Predicted Value = 50.811\n",
      "(31) Actual Value: 42.420 | Predicted Value = 42.653\n",
      "(32) Actual Value: 60.610 | Predicted Value = 57.729\n",
      "(33) Actual Value: 64.870 | Predicted Value = 68.856\n",
      "(34) Actual Value: 53.980 | Predicted Value = 56.113\n",
      "(35) Actual Value: 62.220 | Predicted Value = 58.700\n",
      "(36) Actual Value: 61.440 | Predicted Value = 59.507\n",
      "(37) Actual Value: 44.380 | Predicted Value = 42.796\n",
      "(38) Actual Value: 105.050 | Predicted Value = 93.930\n",
      "(39) Actual Value: 45.360 | Predicted Value = 44.382\n",
      "(40) Actual Value: 47.650 | Predicted Value = 49.758\n",
      "(41) Actual Value: 47.880 | Predicted Value = 43.709\n",
      "(42) Actual Value: 74.920 | Predicted Value = 75.565\n",
      "(43) Actual Value: 39.780 | Predicted Value = 44.321\n",
      "(44) Actual Value: 48.250 | Predicted Value = 51.036\n",
      "(45) Actual Value: 61.050 | Predicted Value = 64.871\n",
      "(46) Actual Value: 57.780 | Predicted Value = 57.733\n",
      "(47) Actual Value: 46.500 | Predicted Value = 45.126\n",
      "(48) Actual Value: 74.120 | Predicted Value = 71.973\n",
      "(49) Actual Value: 68.310 | Predicted Value = 62.793\n",
      "(50) Actual Value: 77.270 | Predicted Value = 83.628\n",
      "(51) Actual Value: 44.670 | Predicted Value = 49.424\n",
      "(52) Actual Value: 65.790 | Predicted Value = 63.061\n",
      "(53) Actual Value: 66.770 | Predicted Value = 68.934\n",
      "(54) Actual Value: 75.720 | Predicted Value = 82.399\n",
      "(55) Actual Value: 67.190 | Predicted Value = 69.205\n",
      "(56) Actual Value: 56.280 | Predicted Value = 53.096\n",
      "(57) Actual Value: 47.000 | Predicted Value = 46.116\n",
      "(58) Actual Value: 96.980 | Predicted Value = 96.286\n",
      "(59) Actual Value: 40.780 | Predicted Value = 42.551\n",
      "(60) Actual Value: 47.230 | Predicted Value = 57.553\n",
      "(61) Actual Value: 45.270 | Predicted Value = 46.767\n",
      "(62) Actual Value: 59.900 | Predicted Value = 54.704\n",
      "(63) Actual Value: 61.210 | Predicted Value = 58.532\n",
      "(64) Actual Value: 50.600 | Predicted Value = 56.111\n",
      "(65) Actual Value: 49.870 | Predicted Value = 49.340\n",
      "(66) Actual Value: 74.270 | Predicted Value = 62.785\n",
      "(67) Actual Value: 58.050 | Predicted Value = 55.445\n",
      "(68) Actual Value: 45.170 | Predicted Value = 46.504\n",
      "(69) Actual Value: 73.010 | Predicted Value = 82.904\n",
      "(70) Actual Value: 93.830 | Predicted Value = 98.039\n",
      "(71) Actual Value: 52.940 | Predicted Value = 57.666\n",
      "(72) Actual Value: 40.080 | Predicted Value = 42.723\n",
      "(73) Actual Value: 85.340 | Predicted Value = 99.046\n",
      "RMSE over the test data set: 4.558 | Test data number: 73\n"
     ]
    }
   ],
   "source": [
    "with torch.no_grad():\n",
    "    y_test_preds = model.forward(X_test)\n",
    "    y_reals = y_test\n",
    "\n",
    "print(\"Neural Network Test Results\")\n",
    "\n",
    "loss = torch.sqrt(criterion(y_reals,y_test_preds))\n",
    "for i in range(len(y_test_preds)):\n",
    "    print(f\"({i+1}) Actual Value: {y_reals[i].item():.3f} | \\\n",
    "Predicted Value = {y_test_preds[i].item():.3f}\")\n",
    "\n",
    "print(f\"RMSE over the test data set: {loss:.3f} | \\\n",
    "Test data number: {len(y_test)}\")"
   ]
  },
  {
   "cell_type": "markdown",
   "metadata": {},
   "source": [
    "Use genetic algorithm to find the minimum over Neural Network"
   ]
  },
  {
   "cell_type": "code",
   "execution_count": 20,
   "metadata": {},
   "outputs": [],
   "source": [
    "from geneticalgorithm import geneticalgorithm as ga"
   ]
  },
  {
   "cell_type": "code",
   "execution_count": 21,
   "metadata": {},
   "outputs": [],
   "source": [
    "def f(X): # define the cost function as the output of the neural network\n",
    "    model.eval()\n",
    "    X = torch.FloatTensor(X)\n",
    "    return float(model.forward(X.view(1,-1)).item())"
   ]
  },
  {
   "cell_type": "code",
   "execution_count": 27,
   "metadata": {},
   "outputs": [
    {
     "name": "stdout",
     "output_type": "stream",
     "text": [
      " The best solution found:                                                                           \n",
      " [ 9.74271948  0.15009312  9.8180474  35.6460731  40.06893402  0.77572272\n",
      "  0.51591646 50.52436649 75.1047489   1.18817543 49.42350783]\n",
      "\n",
      " Objective function:\n",
      " 42.53559875488281\n"
     ]
    },
    {
     "data": {
      "image/png": "[encoded data removed]",
      "text/plain": [
       "<Figure size 432x288 with 1 Axes>"
      ]
     },
     "metadata": {
      "needs_background": "light"
     },
     "output_type": "display_data"
    }
   ],
   "source": [
    "# Input dimension (input feature number)\n",
    "dim = X.shape[1]\n",
    "\n",
    "# Boundaries\n",
    "varbound=np.array([[1,10],[0,2],[1,10],[21,36],[37,47],[0.3,0.8],\n",
    "        [0.5,2.5],[50,60],[75,86],[1,21],[24,50]])\n",
    "\n",
    "algorithm_param = {'max_num_iteration': 1000,\\\n",
    "                   'population_size':100,\\\n",
    "                   'mutation_probability':0.15,\\\n",
    "                   'elit_ratio': 0.05,\\\n",
    "                   'crossover_probability': 0.5,\\\n",
    "                   'parents_portion': 0.3,\\\n",
    "                   'crossover_type':'uniform',\\\n",
    "                   'max_iteration_without_improv':None}\n",
    "\n",
    "ga_model=ga(function=f,\n",
    "        dimension=dim,variable_type='real',\n",
    "        variable_boundaries=varbound,\n",
    "        algorithm_parameters=algorithm_param)\n",
    "\n",
    "# Call genetic algorithm\n",
    "ga_model.run()"
   ]
  },
  {
   "cell_type": "code",
   "execution_count": 80,
   "metadata": {},
   "outputs": [
    {
     "name": "stdout",
     "output_type": "stream",
     "text": [
      "Minimum y value in the dataset: 39.78\n"
     ]
    }
   ],
   "source": [
    "print(f\"Minimum y value in the dataset: {y.min().item()}\")"
   ]
  }
 ],
 "metadata": {
  "kernelspec": {
   "display_name": "Python 3.9.7 ('base')",
   "language": "python",
   "name": "python3"
  },
  "language_info": {
   "codemirror_mode": {
    "name": "ipython",
    "version": 3
   },
   "file_extension": ".py",
   "mimetype": "text/x-python",
   "name": "python",
   "nbconvert_exporter": "python",
   "pygments_lexer": "ipython3",
   "version": "3.9.7"
  },
  "orig_nbformat": 4,
  "vscode": {
   "interpreter": {
    "hash": "037acd470e224829f4c735f8be7ad53dbc0675a7df8a8c9dd5c1e98068a44527"
   }
  }
 },
 "nbformat": 4,
 "nbformat_minor": 2
}
